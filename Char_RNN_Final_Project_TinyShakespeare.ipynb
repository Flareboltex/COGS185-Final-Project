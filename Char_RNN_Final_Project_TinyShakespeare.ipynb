{
  "nbformat": 4,
  "nbformat_minor": 0,
  "metadata": {
    "colab": {
      "provenance": [],
      "gpuType": "T4"
    },
    "kernelspec": {
      "name": "python3",
      "display_name": "Python 3"
    },
    "language_info": {
      "name": "python"
    },
    "accelerator": "GPU"
  },
  "cells": [
    {
      "cell_type": "code",
      "source": [
        "from google.colab import drive\n",
        "drive.mount('/content/drive')"
      ],
      "metadata": {
        "colab": {
          "base_uri": "https://localhost:8080/"
        },
        "id": "x3_8KyrYC1Xw",
        "outputId": "e00c5c4e-5108-4483-fe5a-061fa8af6837"
      },
      "execution_count": null,
      "outputs": [
        {
          "output_type": "stream",
          "name": "stdout",
          "text": [
            "Mounted at /content/drive\n"
          ]
        }
      ]
    },
    {
      "cell_type": "code",
      "source": [
        "import torch\n",
        "import json\n",
        "import matplotlib.pyplot as plt\n",
        "print(\"CUDA available:\", torch.cuda.is_available())\n",
        "print(\"GPU name:\", torch.cuda.get_device_name(0) if torch.cuda.is_available() else \"No GPU\")"
      ],
      "metadata": {
        "colab": {
          "base_uri": "https://localhost:8080/"
        },
        "id": "Rn-7Uq2qS7IX",
        "outputId": "e22c3e2f-ff12-49e2-bbf1-6e73830fc790"
      },
      "execution_count": null,
      "outputs": [
        {
          "output_type": "stream",
          "name": "stdout",
          "text": [
            "CUDA available: True\n",
            "GPU name: Tesla T4\n"
          ]
        }
      ]
    },
    {
      "cell_type": "code",
      "execution_count": null,
      "metadata": {
        "colab": {
          "base_uri": "https://localhost:8080/"
        },
        "id": "un_NQ0chcxky",
        "outputId": "b3a6bb19-c6d6-48ec-deb5-ad0072f24fa0"
      },
      "outputs": [
        {
          "output_type": "stream",
          "name": "stdout",
          "text": [
            "Requirement already satisfied: tqdm in /usr/local/lib/python3.11/dist-packages (4.67.1)\n",
            "Requirement already satisfied: matplotlib in /usr/local/lib/python3.11/dist-packages (3.10.0)\n",
            "Requirement already satisfied: contourpy>=1.0.1 in /usr/local/lib/python3.11/dist-packages (from matplotlib) (1.3.2)\n",
            "Requirement already satisfied: cycler>=0.10 in /usr/local/lib/python3.11/dist-packages (from matplotlib) (0.12.1)\n",
            "Requirement already satisfied: fonttools>=4.22.0 in /usr/local/lib/python3.11/dist-packages (from matplotlib) (4.58.1)\n",
            "Requirement already satisfied: kiwisolver>=1.3.1 in /usr/local/lib/python3.11/dist-packages (from matplotlib) (1.4.8)\n",
            "Requirement already satisfied: numpy>=1.23 in /usr/local/lib/python3.11/dist-packages (from matplotlib) (2.0.2)\n",
            "Requirement already satisfied: packaging>=20.0 in /usr/local/lib/python3.11/dist-packages (from matplotlib) (24.2)\n",
            "Requirement already satisfied: pillow>=8 in /usr/local/lib/python3.11/dist-packages (from matplotlib) (11.2.1)\n",
            "Requirement already satisfied: pyparsing>=2.3.1 in /usr/local/lib/python3.11/dist-packages (from matplotlib) (3.2.3)\n",
            "Requirement already satisfied: python-dateutil>=2.7 in /usr/local/lib/python3.11/dist-packages (from matplotlib) (2.9.0.post0)\n",
            "Requirement already satisfied: six>=1.5 in /usr/local/lib/python3.11/dist-packages (from python-dateutil>=2.7->matplotlib) (1.17.0)\n",
            "Cloning into 'char-rnn.pytorch'...\n",
            "remote: Enumerating objects: 54, done.\u001b[K\n",
            "remote: Total 54 (delta 0), reused 0 (delta 0), pack-reused 54 (from 1)\u001b[K\n",
            "Receiving objects: 100% (54/54), 11.79 KiB | 11.79 MiB/s, done.\n",
            "Resolving deltas: 100% (30/30), done.\n",
            "/content/char-rnn.pytorch\n"
          ]
        }
      ],
      "source": [
        "!pip install tqdm matplotlib\n",
        "\n",
        "!git clone https://github.com/spro/char-rnn.pytorch.git\n",
        "%cd char-rnn.pytorch"
      ]
    },
    {
      "cell_type": "code",
      "source": [
        "!pip install unidecode\n"
      ],
      "metadata": {
        "colab": {
          "base_uri": "https://localhost:8080/"
        },
        "id": "V3qLv4V3fN_A",
        "outputId": "d6591ad5-0cfd-4386-9ca2-5987faec0c04"
      },
      "execution_count": null,
      "outputs": [
        {
          "output_type": "stream",
          "name": "stdout",
          "text": [
            "Collecting unidecode\n",
            "  Downloading Unidecode-1.4.0-py3-none-any.whl.metadata (13 kB)\n",
            "Downloading Unidecode-1.4.0-py3-none-any.whl (235 kB)\n",
            "\u001b[?25l   \u001b[90m━━━━━━━━━━━━━━━━━━━━━━━━━━━━━━━━━━━━━━━━\u001b[0m \u001b[32m0.0/235.8 kB\u001b[0m \u001b[31m?\u001b[0m eta \u001b[36m-:--:--\u001b[0m\r\u001b[2K   \u001b[91m━━━━━\u001b[0m\u001b[90m╺\u001b[0m\u001b[90m━━━━━━━━━━━━━━━━━━━━━━━━━━━━━━━━━━\u001b[0m \u001b[32m30.7/235.8 kB\u001b[0m \u001b[31m2.3 MB/s\u001b[0m eta \u001b[36m0:00:01\u001b[0m\r\u001b[2K   \u001b[91m━━━━━━━━━━━━━━━━━━━━━━━━━━\u001b[0m\u001b[90m╺\u001b[0m\u001b[90m━━━━━━━━━━━━━\u001b[0m \u001b[32m153.6/235.8 kB\u001b[0m \u001b[31m3.1 MB/s\u001b[0m eta \u001b[36m0:00:01\u001b[0m\r\u001b[2K   \u001b[90m━━━━━━━━━━━━━━━━━━━━━━━━━━━━━━━━━━━━━━━━\u001b[0m \u001b[32m235.8/235.8 kB\u001b[0m \u001b[31m2.8 MB/s\u001b[0m eta \u001b[36m0:00:00\u001b[0m\n",
            "\u001b[?25hInstalling collected packages: unidecode\n",
            "Successfully installed unidecode-1.4.0\n"
          ]
        }
      ]
    },
    {
      "cell_type": "code",
      "source": [
        "!mkdir data\n",
        "!curl https://raw.githubusercontent.com/karpathy/char-rnn/master/data/tinyshakespeare/input.txt -o data/tinyshakespeare.txt"
      ],
      "metadata": {
        "colab": {
          "base_uri": "https://localhost:8080/"
        },
        "id": "-bP8ZVDUevdB",
        "outputId": "a8076846-6c3a-4ad9-8e12-703c8d6c36fb"
      },
      "execution_count": null,
      "outputs": [
        {
          "output_type": "stream",
          "name": "stdout",
          "text": [
            "  % Total    % Received % Xferd  Average Speed   Time    Time     Time  Current\n",
            "                                 Dload  Upload   Total   Spent    Left  Speed\n",
            "100 1089k  100 1089k    0     0  1907k      0 --:--:-- --:--:-- --:--:-- 1910k\n"
          ]
        }
      ]
    },
    {
      "cell_type": "code",
      "source": [
        "!python train.py data/tinyshakespeare.txt --n_epochs 200 --n_layers 2 --hidden_size 768 --chunk_len 200 --batch_size 128 --cuda"
      ],
      "metadata": {
        "colab": {
          "base_uri": "https://localhost:8080/"
        },
        "id": "fumR4U5YfnRv",
        "outputId": "9d0f9622-bc37-4c4a-9db5-71db31c642d1"
      },
      "execution_count": null,
      "outputs": [
        {
          "output_type": "stream",
          "name": "stdout",
          "text": [
            "Using CUDA\n",
            "Training for 200 epochs...\n",
            " 50% 99/200 [01:10<01:16,  1.32it/s][1m 10s (100 50%) 1.6674]\n",
            "What abour speing,\n",
            "By the lod courst with the wearil alice,\n",
            "Haming sorruse thee, no under all this sme \n",
            "\n",
            "100% 199/200 [02:22<00:00,  1.41it/s][2m 22s (200 100%) 1.4913]\n",
            "Whe slose stame, as the more way and and must down north to the point\n",
            "And let the fair in any.\n",
            "\n",
            "ANGELO \n",
            "\n",
            "100% 200/200 [02:22<00:00,  1.40it/s]\n",
            "Saving...\n",
            "Saved as tinyshakespeare.pt\n"
          ]
        }
      ]
    },
    {
      "cell_type": "code",
      "source": [
        "!python generate.py tinyshakespeare.pt -p \"ROMEO:\" -l 750 -t 0.4"
      ],
      "metadata": {
        "colab": {
          "base_uri": "https://localhost:8080/"
        },
        "id": "JsGZSyUfNB5O",
        "outputId": "b0b3f536-68b8-4b95-a770-4b01b95ffedc"
      },
      "execution_count": null,
      "outputs": [
        {
          "output_type": "stream",
          "name": "stdout",
          "text": [
            "ROMEO:\n",
            "A may may may marry to the penight so for the more made\n",
            "To such a more is here had lives the cousin here pursed to the counsel,\n",
            "That have be so more one to his fair country.\n",
            "\n",
            "KING RICHARD III:\n",
            "Why, what the consent that we man?\n",
            "\n",
            "KING RICHARD III:\n",
            "Where the more the name?\n",
            "\n",
            "KING RICHARD III:\n",
            "Why, that the lady to love?\n",
            "\n",
            "KING RICHARD III:\n",
            "Why, but the slave the instruct her along comes of thee?\n",
            "\n",
            "RICHMOND:\n",
            "The hath a man to my consent,\n",
            "The ored to here of the common to be the comes of the thence here man, what so love to the more to the counsel to be the devil,\n",
            "That the world to the counsel to the true heaven here to the not and the consent,\n",
            "When I have so much a presence, the comes of the that the come the remember to the common and married\n",
            "T\n"
          ]
        }
      ]
    },
    {
      "cell_type": "code",
      "source": [
        "!python generate.py tinyshakespeare.pt -p \"ROMEO:\" -l 750 -t 0.6"
      ],
      "metadata": {
        "colab": {
          "base_uri": "https://localhost:8080/"
        },
        "id": "kZ0uc5_JhkQV",
        "outputId": "0c45bb75-b5a2-4240-c0f7-cc05b86f3d19"
      },
      "execution_count": null,
      "outputs": [
        {
          "output_type": "stream",
          "name": "stdout",
          "text": [
            "ROMEO:\n",
            "What, that now since what I have were?\n",
            "\n",
            "KATHARINA:\n",
            "It the says, do your grace, and then under, that you mercy;\n",
            "And I come, as it some thee, marry of order a bless\n",
            "Agenelow hath in the place.\n",
            "\n",
            "KING RICHARD II:\n",
            "Why, let me to have at France\n",
            "Whonself to your break the conduct is thee speak.\n",
            "\n",
            "ESCALUS:\n",
            "That, where that stay thou hast the countenness\n",
            "To well made the cousins the comes,\n",
            "That I do here I will be this discression king that I marry as the come.\n",
            "\n",
            "KING RICHARD III:\n",
            "I care he warm.\n",
            "\n",
            "BENVOLIO:\n",
            "What is a love?\n",
            "\n",
            "TRANIO:\n",
            "Why, let the godsess me but him a bellood?\n",
            "\n",
            "KATHARINA:\n",
            "And, and not a man more here, your mortal, some to look the rode me.\n",
            "\n",
            "GREMIO:\n",
            "O cousest of your good like other all,\n",
            "Who so the strength, be so all the still draw in t\n"
          ]
        }
      ]
    },
    {
      "cell_type": "code",
      "source": [
        "!python generate.py tinyshakespeare.pt -p \"ROMEO:\" -l 750 -t 0.8"
      ],
      "metadata": {
        "colab": {
          "base_uri": "https://localhost:8080/"
        },
        "id": "KhXJ7df8NB7y",
        "outputId": "d2b1e63c-e930-4e00-952c-90204435f58f"
      },
      "execution_count": null,
      "outputs": [
        {
          "output_type": "stream",
          "name": "stdout",
          "text": [
            "ROMEO:\n",
            "Why, cannot consent,\n",
            "The honour of his meat remember mes;\n",
            "There of that it the comes of such water.\n",
            "\n",
            "EDWARD:\n",
            "\n",
            "KATHARINA:\n",
            "You mother.\n",
            "\n",
            "PAULINA:\n",
            "En 'usily shall I the couse.\n",
            "\n",
            "CATESTARINA:\n",
            "Why, year so sea, come of Buckingham!\n",
            "\n",
            "RICHMOND:\n",
            "But have do even straight amongst counsel:\n",
            "Aning were thee offording name?\n",
            "\n",
            "KING EDWARD IV:\n",
            "Avey so, your king, that rodes, the sandful man away, brother's look\n",
            "To all the country in have a wrough, I have offence.\n",
            "\n",
            "KING REWARD III:\n",
            "The comes it all every that news be dost of comes,\n",
            "Where wherein thee, less be our words the worst\n",
            "That I would there execuliderected not then couse?\n",
            "\n",
            "MIRANDA:\n",
            "If very manterius serven etather.\n",
            "\n",
            "KATHARINA:\n",
            "Ay, say I hear there I have your consul.\n",
            "\n",
            "JULIET:\n",
            "JULIET:\n",
            "You water, and see\n"
          ]
        }
      ]
    },
    {
      "cell_type": "code",
      "source": [
        "with open('losses.json', 'r') as f:\n",
        "    losses = json.load(f)\n",
        "\n",
        "plt.plot(losses)\n",
        "plt.xlabel(\"Epoch\")\n",
        "plt.ylabel(\"Loss\")\n",
        "plt.title(\"Char-RNN Training Loss\")\n",
        "plt.grid(True)\n",
        "plt.show()"
      ],
      "metadata": {
        "colab": {
          "base_uri": "https://localhost:8080/",
          "height": 472
        },
        "id": "7Zs-p3s1LXss",
        "outputId": "b5bf0104-79a4-4e1f-b396-1eda23e6e964"
      },
      "execution_count": null,
      "outputs": [
        {
          "output_type": "display_data",
          "data": {
            "text/plain": [
              "<Figure size 640x480 with 1 Axes>"
            ],
            "image/png": "[encoded data removed]"
          },
          "metadata": {}
        }
      ]
    },
    {
      "cell_type": "code",
      "source": [
        "generated_text = !python sample.py --checkpoint checkpoints/char-rnn_epoch1.pt\n",
        "with open(\"sample_output.txt\", \"w\") as f:\n",
        "    f.write(\"\\n\".join(generated_text))"
      ],
      "metadata": {
        "id": "edemzgfNfIBj"
      },
      "execution_count": null,
      "outputs": []
    }
  ]
}