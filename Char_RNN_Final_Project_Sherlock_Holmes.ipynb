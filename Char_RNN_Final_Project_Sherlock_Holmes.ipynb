{
  "nbformat": 4,
  "nbformat_minor": 0,
  "metadata": {
    "colab": {
      "provenance": [],
      "gpuType": "T4"
    },
    "kernelspec": {
      "name": "python3",
      "display_name": "Python 3"
    },
    "language_info": {
      "name": "python"
    },
    "accelerator": "GPU"
  },
  "cells": [
    {
      "cell_type": "code",
      "source": [
        "from google.colab import drive\n",
        "drive.mount('/content/drive')"
      ],
      "metadata": {
        "colab": {
          "base_uri": "https://localhost:8080/"
        },
        "id": "x3_8KyrYC1Xw",
        "outputId": "9d0a7ad2-ccfc-46df-921a-aff77f80ff6f"
      },
      "execution_count": null,
      "outputs": [
        {
          "output_type": "stream",
          "name": "stdout",
          "text": [
            "Mounted at /content/drive\n"
          ]
        }
      ]
    },
    {
      "cell_type": "code",
      "source": [
        "import torch\n",
        "import json\n",
        "import matplotlib.pyplot as plt\n",
        "print(\"CUDA available:\", torch.cuda.is_available())\n",
        "print(\"GPU name:\", torch.cuda.get_device_name(0) if torch.cuda.is_available() else \"No GPU\")"
      ],
      "metadata": {
        "colab": {
          "base_uri": "https://localhost:8080/"
        },
        "id": "Rn-7Uq2qS7IX",
        "outputId": "0ab27209-363e-4cdb-d28e-b80cdb257b0b"
      },
      "execution_count": null,
      "outputs": [
        {
          "output_type": "stream",
          "name": "stdout",
          "text": [
            "CUDA available: True\n",
            "GPU name: Tesla T4\n"
          ]
        }
      ]
    },
    {
      "cell_type": "code",
      "execution_count": null,
      "metadata": {
        "colab": {
          "base_uri": "https://localhost:8080/"
        },
        "id": "un_NQ0chcxky",
        "outputId": "a22e51a1-b721-4968-e8bc-7765ca97f774"
      },
      "outputs": [
        {
          "output_type": "stream",
          "name": "stdout",
          "text": [
            "Requirement already satisfied: tqdm in /usr/local/lib/python3.11/dist-packages (4.67.1)\n",
            "Requirement already satisfied: matplotlib in /usr/local/lib/python3.11/dist-packages (3.10.0)\n",
            "Requirement already satisfied: contourpy>=1.0.1 in /usr/local/lib/python3.11/dist-packages (from matplotlib) (1.3.2)\n",
            "Requirement already satisfied: cycler>=0.10 in /usr/local/lib/python3.11/dist-packages (from matplotlib) (0.12.1)\n",
            "Requirement already satisfied: fonttools>=4.22.0 in /usr/local/lib/python3.11/dist-packages (from matplotlib) (4.58.1)\n",
            "Requirement already satisfied: kiwisolver>=1.3.1 in /usr/local/lib/python3.11/dist-packages (from matplotlib) (1.4.8)\n",
            "Requirement already satisfied: numpy>=1.23 in /usr/local/lib/python3.11/dist-packages (from matplotlib) (2.0.2)\n",
            "Requirement already satisfied: packaging>=20.0 in /usr/local/lib/python3.11/dist-packages (from matplotlib) (24.2)\n",
            "Requirement already satisfied: pillow>=8 in /usr/local/lib/python3.11/dist-packages (from matplotlib) (11.2.1)\n",
            "Requirement already satisfied: pyparsing>=2.3.1 in /usr/local/lib/python3.11/dist-packages (from matplotlib) (3.2.3)\n",
            "Requirement already satisfied: python-dateutil>=2.7 in /usr/local/lib/python3.11/dist-packages (from matplotlib) (2.9.0.post0)\n",
            "Requirement already satisfied: six>=1.5 in /usr/local/lib/python3.11/dist-packages (from python-dateutil>=2.7->matplotlib) (1.17.0)\n",
            "Cloning into 'char-rnn.pytorch'...\n",
            "remote: Enumerating objects: 54, done.\u001b[K\n",
            "remote: Total 54 (delta 0), reused 0 (delta 0), pack-reused 54 (from 1)\u001b[K\n",
            "Receiving objects: 100% (54/54), 11.79 KiB | 11.79 MiB/s, done.\n",
            "Resolving deltas: 100% (30/30), done.\n",
            "/content/char-rnn.pytorch\n"
          ]
        }
      ],
      "source": [
        "!pip install tqdm matplotlib\n",
        "\n",
        "!git clone https://github.com/spro/char-rnn.pytorch.git\n",
        "%cd char-rnn.pytorch"
      ]
    },
    {
      "cell_type": "code",
      "source": [
        "!pip install unidecode"
      ],
      "metadata": {
        "colab": {
          "base_uri": "https://localhost:8080/"
        },
        "id": "V3qLv4V3fN_A",
        "outputId": "8f6d17c3-779d-4b33-d42f-4f683ab80f36"
      },
      "execution_count": null,
      "outputs": [
        {
          "output_type": "stream",
          "name": "stdout",
          "text": [
            "Collecting unidecode\n",
            "  Downloading Unidecode-1.4.0-py3-none-any.whl.metadata (13 kB)\n",
            "Downloading Unidecode-1.4.0-py3-none-any.whl (235 kB)\n",
            "\u001b[?25l   \u001b[90m━━━━━━━━━━━━━━━━━━━━━━━━━━━━━━━━━━━━━━━━\u001b[0m \u001b[32m0.0/235.8 kB\u001b[0m \u001b[31m?\u001b[0m eta \u001b[36m-:--:--\u001b[0m\r\u001b[2K   \u001b[90m━━━━━━━━━━━━━━━━━━━━━━━━━━━━━━━━━━━━━━━━\u001b[0m \u001b[32m235.8/235.8 kB\u001b[0m \u001b[31m8.3 MB/s\u001b[0m eta \u001b[36m0:00:00\u001b[0m\n",
            "\u001b[?25hInstalling collected packages: unidecode\n",
            "Successfully installed unidecode-1.4.0\n"
          ]
        }
      ]
    },
    {
      "cell_type": "code",
      "source": [
        "!mkdir data\n",
        "!curl https://www.gutenberg.org/cache/epub/1661/pg1661.txt -o data/sherlockholmes.txt"
      ],
      "metadata": {
        "colab": {
          "base_uri": "https://localhost:8080/"
        },
        "id": "-bP8ZVDUevdB",
        "outputId": "844b25e1-81ab-45c3-9b1b-d993d72d9f55"
      },
      "execution_count": null,
      "outputs": [
        {
          "output_type": "stream",
          "name": "stdout",
          "text": [
            "  % Total    % Received % Xferd  Average Speed   Time    Time     Time  Current\n",
            "                                 Dload  Upload   Total   Spent    Left  Speed\n",
            "100  593k  100  593k    0     0   660k      0 --:--:-- --:--:-- --:--:--  661k\n"
          ]
        }
      ]
    },
    {
      "cell_type": "code",
      "source": [
        "!python train.py data/sherlockholmes.txt --n_epochs 300 --n_layers 2 --hidden_size 768 --chunk_len 200 --batch_size 128 --cuda"
      ],
      "metadata": {
        "colab": {
          "base_uri": "https://localhost:8080/"
        },
        "id": "fumR4U5YfnRv",
        "outputId": "b5b0b5d4-77d6-474d-bf45-f750dc8fe1ab"
      },
      "execution_count": null,
      "outputs": [
        {
          "output_type": "stream",
          "name": "stdout",
          "text": [
            "Using CUDA\n",
            "Training for 300 epochs...\n",
            " 33% 99/300 [01:10<02:37,  1.28it/s][1m 11s (100 33%) 1.9799]\n",
            "When hape where to in, thot at I onmens and the hat me a\n",
            "the hand, Went to in sorn cut of thing gat. I \n",
            "\n",
            " 66% 199/300 [02:21<01:10,  1.43it/s][2m 22s (200 66%) 1.7049]\n",
            "When, it corsty, who would would\n",
            "cown of his words wollow worman at in you compration. The were busise \n",
            "\n",
            "100% 299/300 [03:33<00:00,  1.34it/s][3m 34s (300 100%) 1.5750]\n",
            "Which I was this very pocked to minch some to acted to extrove eveat to the come. \"I the seet to for t \n",
            "\n",
            "100% 300/300 [03:34<00:00,  1.40it/s]\n",
            "Saving...\n",
            "Saved as sherlockholmes.pt\n"
          ]
        }
      ]
    },
    {
      "cell_type": "code",
      "source": [
        "!python generate.py sherlockholmes.pt -p \"Holmes:\" -l 750 -t 0.4"
      ],
      "metadata": {
        "colab": {
          "base_uri": "https://localhost:8080/"
        },
        "id": "JsGZSyUfNB5O",
        "outputId": "67be3341-f372-4e34-f6ab-5763dd38336d"
      },
      "execution_count": null,
      "outputs": [
        {
          "output_type": "stream",
          "name": "stdout",
          "text": [
            "Holmes:\n",
            "\n",
            "\"'And why I am so you have a small brown and have a small your hands of the house of the matter of the floor of the stairs, and the looking conting his hand and from the goose of the stood to see that an indicted of the attending of the morning the first of the colonel and lifelled and the corridor of the streets, and there was a passing the story of the corrided and morning that I have been heard and the door in the possible singular and should be some considerable should some to me that the matter, and I have been remained to the streets of the long from the seemed to the streets to me the matter, and I was something out of a very closely and complete bridge which I have a man and considerable and having and stepped to my for the compli\n"
          ]
        }
      ]
    },
    {
      "cell_type": "code",
      "source": [
        "!python generate.py sherlockholmes.pt -p \"Holmes:\" -l 750 -t 0.6"
      ],
      "metadata": {
        "colab": {
          "base_uri": "https://localhost:8080/"
        },
        "id": "kZ0uc5_JhkQV",
        "outputId": "31b3474a-bb85-4a24-d6fe-7cb3d69f89bd"
      },
      "execution_count": null,
      "outputs": [
        {
          "output_type": "stream",
          "name": "stdout",
          "text": [
            "Holmes: All that\n",
            "Boness that  you as shown as the dear the home should some possibly disguesty door was the commoonel in a spinced to his geen him and in a small of a steps had some advice by this the door and day and man on the\n",
            "grown to the arts and dress to me that it is in the window what on the jeweller some from the threather was a complice to discration of the true sithing of a particulation which I could not just be to the most a\n",
            "little things of a books of the corones round his some for me, the strong little best and made a villows of my reather some\n",
            "home. But I letters, and I come and most of at my should not that I could be every much of the exadudred the clanched and\n",
            "thing to me the horrow more to him and little door. On the all the bac\n"
          ]
        }
      ]
    },
    {
      "cell_type": "code",
      "source": [
        "!python generate.py sherlockholmes.pt -p \"Holmes:\" -l 750 -t 0.8"
      ],
      "metadata": {
        "colab": {
          "base_uri": "https://localhost:8080/"
        },
        "id": "KhXJ7df8NB7y",
        "outputId": "2e2f6c2a-3b4f-4b10-c940-2c6a92de4d31"
      },
      "execution_count": null,
      "outputs": [
        {
          "output_type": "stream",
          "name": "stdout",
          "text": [
            "Holmes: All some in the anto a very from the maided of the clergarthy ancent in able countral probsoner.\"\n",
            "\n",
            "\"Precting gems in my right cooseen and at\n",
            "from the side of reason end your slipse. He was arry, and a suright sust leave, the soment the dember mestraing this bortunation. There was my business, and\n",
            "its want them?\"\n",
            "\n",
            "\"No once is some aother life.\"\n",
            "\n",
            "\"But have seems the difbilian?\"\n",
            "\n",
            "\"It opient a passessed agent of in London her sometillicing in my sprise to unto the\n",
            "glanced.\"\n",
            "\n",
            "\"Well, and from the ground have brown of the\n",
            "methout in old the other, said Holmes, \"and his evention of the old\n",
            "like himself pressionally that I mighting it may camidaining anter not complied their honal\n",
            "front of a months and should have door just one thirty. There wish t\n"
          ]
        }
      ]
    },
    {
      "cell_type": "code",
      "source": [
        "with open('losses.json', 'r') as f:\n",
        "    losses = json.load(f)\n",
        "\n",
        "plt.plot(losses)\n",
        "plt.xlabel(\"Epoch\")\n",
        "plt.ylabel(\"Loss\")\n",
        "plt.title(\"Char-RNN Training Loss\")\n",
        "plt.grid(True)\n",
        "plt.show()"
      ],
      "metadata": {
        "colab": {
          "base_uri": "https://localhost:8080/",
          "height": 472
        },
        "id": "7Zs-p3s1LXss",
        "outputId": "f6b369c2-6de2-412a-aea2-90ecb050d0b3"
      },
      "execution_count": null,
      "outputs": [
        {
          "output_type": "display_data",
          "data": {
            "text/plain": [
              "<Figure size 640x480 with 1 Axes>"
            ],
            "image/png": "[encoded data removed]"
          },
          "metadata": {}
        }
      ]
    },
    {
      "cell_type": "code",
      "source": [
        "generated_text = !python sample.py --checkpoint checkpoints/char-rnn_epoch1.pt\n",
        "with open(\"sample_output.txt\", \"w\") as f:\n",
        "    f.write(\"\\n\".join(generated_text))"
      ],
      "metadata": {
        "id": "edemzgfNfIBj"
      },
      "execution_count": null,
      "outputs": []
    }
  ]
}